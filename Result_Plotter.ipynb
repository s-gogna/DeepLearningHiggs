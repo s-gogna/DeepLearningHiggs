{
 "metadata": {
  "name": ""
 },
 "nbformat": 3,
 "nbformat_minor": 0,
 "worksheets": [
  {
   "cells": [
    {
     "cell_type": "code",
     "collapsed": false,
     "input": [
      "import numpy as np\n",
      "import matplotlib.pyplot as plt"
     ],
     "language": "python",
     "metadata": {},
     "outputs": [],
     "prompt_number": 98
    },
    {
     "cell_type": "code",
     "collapsed": false,
     "input": [
      "data = []\n",
      "for i in range(3):\n",
      "    data.append( [] )"
     ],
     "language": "python",
     "metadata": {},
     "outputs": [],
     "prompt_number": 99
    },
    {
     "cell_type": "code",
     "collapsed": false,
     "input": [
      "filename = \"NN_Results.csv\"\n",
      "with open(filename, 'r') as f:\n",
      "    for line in f:\n",
      "        sline = line.split()\n",
      "        label = int(sline[0])\n",
      "        epoch = int(sline[1])\n",
      "        y = float(sline[2])\n",
      "        \n",
      "        data[ label ].append( y )"
     ],
     "language": "python",
     "metadata": {},
     "outputs": [],
     "prompt_number": 100
    },
    {
     "cell_type": "code",
     "collapsed": false,
     "input": [
      "for i in range(3):\n",
      "        plt.plot( data[i],  )\n",
      "plt.title(\"Global Accuracy in Training\")\n",
      "plt.xlabel(\"Epoch\")\n",
      "plt.ylabel(\"Accuracy (%)\")\n",
      "plt.legend(['Low Level Only', 'High Level Only', 'Both'], loc=0)\n",
      "plt.grid(True)\n",
      "plt.savefig('NN_Results.png', bbox_inches='tight', dpi=200)\n",
      "plt.clf()"
     ],
     "language": "python",
     "metadata": {},
     "outputs": [],
     "prompt_number": 101
    },
    {
     "cell_type": "code",
     "collapsed": false,
     "input": [],
     "language": "python",
     "metadata": {},
     "outputs": [],
     "prompt_number": 101
    }
   ],
   "metadata": {}
  }
 ]
}