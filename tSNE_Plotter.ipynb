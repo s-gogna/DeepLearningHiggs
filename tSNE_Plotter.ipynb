{
 "metadata": {
  "name": ""
 },
 "nbformat": 3,
 "nbformat_minor": 0,
 "worksheets": [
  {
   "cells": [
    {
     "cell_type": "code",
     "collapsed": false,
     "input": [
      "import numpy as np\n",
      "import matplotlib.pyplot as plt"
     ],
     "language": "python",
     "metadata": {},
     "outputs": [],
     "prompt_number": 126
    },
    {
     "cell_type": "code",
     "collapsed": false,
     "input": [
      "dataX = [ [] ]\n",
      "dataY = [ [] ]\n",
      "for i in range(1,3):\n",
      "    dataX.append( [] )\n",
      "    dataY.append( [] )"
     ],
     "language": "python",
     "metadata": {},
     "outputs": [],
     "prompt_number": 127
    },
    {
     "cell_type": "code",
     "collapsed": false,
     "input": [
      "filename = \"tsne_result.csv\"\n",
      "with open(filename, 'r') as f:\n",
      "    for line in f:\n",
      "        sline = line.split()\n",
      "        label = int(sline[0])\n",
      "        x = float(sline[1])\n",
      "        y = float(sline[2])\n",
      "        \n",
      "        dataX[ label ].append( x )\n",
      "        dataY[ label ].append( y )"
     ],
     "language": "python",
     "metadata": {},
     "outputs": [],
     "prompt_number": 128
    },
    {
     "cell_type": "code",
     "collapsed": false,
     "input": [
      "for i in range(1,3):\n",
      "    plt.scatter(dataX[i], dataY[i], s = 10, c = ('0.0' if i == 1 else '1.0') )\n",
      "plt.title(\"t-SNE of 5000 Higgs Dataset Points\")\n",
      "plt.savefig(filename + '.png', bbox_inches='tight', dpi=200)\n",
      "plt.clf()"
     ],
     "language": "python",
     "metadata": {},
     "outputs": [],
     "prompt_number": 129
    },
    {
     "cell_type": "code",
     "collapsed": false,
     "input": [],
     "language": "python",
     "metadata": {},
     "outputs": []
    }
   ],
   "metadata": {}
  }
 ]
}